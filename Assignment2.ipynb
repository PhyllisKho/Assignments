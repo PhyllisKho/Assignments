{
 "cells": [
  {
   "cell_type": "markdown",
   "id": "a7a275b3-843b-4a22-8ab4-493b2472ddf6",
   "metadata": {},
   "source": [
    "# Assignment 2 \n",
    "### Phyllis Kho"
   ]
  },
  {
   "cell_type": "markdown",
   "id": "0790c43d-6c45-4195-8c69-aa08129fd6a9",
   "metadata": {},
   "source": [
    "## Part l: Lists and Loops"
   ]
  },
  {
   "cell_type": "markdown",
   "id": "db6d4694-17c4-4d73-99fe-88b425056989",
   "metadata": {},
   "source": [
    "### 1) Create a list with the names of every planet in the solar system (in order)"
   ]
  },
  {
   "cell_type": "code",
   "execution_count": 20,
   "id": "2a8e5fba-ba77-4442-b0f2-34c1cc25f473",
   "metadata": {},
   "outputs": [
    {
     "data": {
      "text/plain": [
       "['Mercury', 'Venus', 'Earth', 'Mars', 'Jupiter', 'Saturn', 'Uranus', 'Neptune']"
      ]
     },
     "execution_count": 20,
     "metadata": {},
     "output_type": "execute_result"
    }
   ],
   "source": [
    "planet_names = [\n",
    "    'Mercury', \n",
    "    'Venus', \n",
    "    'Earth', \n",
    "    'Mars', \n",
    "    'Jupiter', \n",
    "    'Saturn', \n",
    "    'Uranus', \n",
    "    'Neptune'\n",
    "]\n",
    "planet_names"
   ]
  },
  {
   "cell_type": "markdown",
   "id": "d26dcd4f-24ae-4f3b-9314-4af62e318ffb",
   "metadata": {},
   "source": [
    "### 2) Have Python tell you how many planets there are by examining your list"
   ]
  },
  {
   "cell_type": "code",
   "execution_count": 21,
   "id": "850c0760-f1e6-4077-a7d6-e4cb14fdf2ef",
   "metadata": {},
   "outputs": [
    {
     "data": {
      "text/plain": [
       "8"
      ]
     },
     "execution_count": 21,
     "metadata": {},
     "output_type": "execute_result"
    }
   ],
   "source": [
    "len(planet_names)"
   ]
  },
  {
   "cell_type": "markdown",
   "id": "50dc394e-d4ef-4d23-8ee7-abaa3c5e0265",
   "metadata": {},
   "source": [
    "### 3) Use slicing to display the first four planets (the rocky planets)"
   ]
  },
  {
   "cell_type": "code",
   "execution_count": 22,
   "id": "156408e4-a381-4203-9084-021e4e5128a4",
   "metadata": {},
   "outputs": [
    {
     "data": {
      "text/plain": [
       "['Mercury', 'Venus', 'Earth', 'Mars']"
      ]
     },
     "execution_count": 22,
     "metadata": {},
     "output_type": "execute_result"
    }
   ],
   "source": [
    "planet_names[0:4]"
   ]
  },
  {
   "cell_type": "markdown",
   "id": "5b83850c-a275-4334-b262-a1bd791cc4c5",
   "metadata": {},
   "source": [
    "### 4) Iterate through your planets and print the planet name only if it has an s at the end"
   ]
  },
  {
   "cell_type": "code",
   "execution_count": 264,
   "id": "a2c72854-92ca-4ec0-b0f6-6c2abd89e2c6",
   "metadata": {},
   "outputs": [
    {
     "name": "stdout",
     "output_type": "stream",
     "text": [
      "Venus\n",
      "Mars\n",
      "Uranus\n"
     ]
    }
   ],
   "source": [
    "for planet in planet_names:\n",
    "    if planet[-1] == 's':\n",
    "        print(planet)"
   ]
  },
  {
   "cell_type": "markdown",
   "id": "f107522f-87f7-4261-9898-4fa4554f90b3",
   "metadata": {},
   "source": [
    "## Part ll: Dictionaries"
   ]
  },
  {
   "cell_type": "markdown",
   "id": "7eca6903-1070-437f-8091-bfc5e5709747",
   "metadata": {},
   "source": [
    "### 1) Now create a dictionary that maps each planet name to its mass"
   ]
  },
  {
   "cell_type": "code",
   "execution_count": 81,
   "id": "9dab8469-7e6e-42dd-83b3-3db39184aead",
   "metadata": {},
   "outputs": [
    {
     "name": "stdout",
     "output_type": "stream",
     "text": [
      "Note: The unit for mass is 10e24 kg\n",
      "\n"
     ]
    },
    {
     "data": {
      "text/plain": [
       "{'Mercury': '0.330',\n",
       " 'Venus': '4.87',\n",
       " 'Earth': '5.97',\n",
       " 'Mars': '0.642',\n",
       " 'Jupiter': '1898',\n",
       " 'Saturn': '568',\n",
       " 'Uranus': '86.8',\n",
       " 'Neptune': '102'}"
      ]
     },
     "execution_count": 81,
     "metadata": {},
     "output_type": "execute_result"
    }
   ],
   "source": [
    "planet_masses = {\n",
    "    'Mercury':'0.330', \n",
    "    'Venus':'4.87', \n",
    "    'Earth':'5.97',\n",
    "    'Mars':'0.642', \n",
    "    'Jupiter':'1898',\n",
    "    'Saturn':'568',\n",
    "    'Uranus':'86.8', \n",
    "    'Neptune': '102'\n",
    "}\n",
    "\n",
    "\n",
    "print('Note: The unit for mass is 10e24 kg')\n",
    "print( )\n",
    "planet_masses\n",
    "\n"
   ]
  },
  {
   "cell_type": "markdown",
   "id": "9c31a63f-fd5e-4c99-8996-50e963963d33",
   "metadata": {},
   "source": [
    "### 2) Use your dictionary to look up Earth’s mass"
   ]
  },
  {
   "cell_type": "code",
   "execution_count": 266,
   "id": "7c0938ee-0d4e-4591-9f83-c66c47a57cc6",
   "metadata": {},
   "outputs": [
    {
     "name": "stdout",
     "output_type": "stream",
     "text": [
      "5.97\n",
      "\n",
      "Note: The unit for mass is 10e24 kg\n"
     ]
    }
   ],
   "source": [
    "print(planet_masses['Earth'])\n",
    "print( )\n",
    "print('Note: The unit for mass is 10e24 kg')"
   ]
  },
  {
   "cell_type": "markdown",
   "id": "8809b598-7f3b-43a8-88d4-38de9c20f702",
   "metadata": {},
   "source": [
    "### 3) Loop through the data and create a list of planets whose mast is greater than 100 x 10^24 kg\n"
   ]
  },
  {
   "cell_type": "code",
   "execution_count": 272,
   "id": "317966cf-db5e-4991-a78c-59034290c723",
   "metadata": {},
   "outputs": [
    {
     "data": {
      "text/plain": [
       "float"
      ]
     },
     "execution_count": 272,
     "metadata": {},
     "output_type": "execute_result"
    }
   ],
   "source": [
    "# Check the type of the value of Earth's mass in planet_masses to make sure it is not a string.\n",
    "\n",
    "type(planet_masses['Earth'])"
   ]
  },
  {
   "cell_type": "code",
   "execution_count": 288,
   "id": "074c9e47-5be3-4e03-83dd-9b2df8644d44",
   "metadata": {},
   "outputs": [
    {
     "name": "stdout",
     "output_type": "stream",
     "text": [
      "['Jupiter', 'Saturn', 'Neptune']\n"
     ]
    }
   ],
   "source": [
    "# Create an empty list (to contain names of planets heavier than 100e24kg) first\n",
    "\n",
    "planets_heavier_than_100e24 = []\n",
    "\n",
    "# Loop through the data to find planets with mass greater than 100 * 10e24kg, and then use .append to add those planets to the empty rocky_planets[] list.\n",
    "\n",
    "for planet in planet_masses:\n",
    "    if planet_masses[planet] > 100:\n",
    "        planets_heavier_than_100e24.append(planet)\n",
    "\n",
    "print(planets_heavier_than_100e24)\n"
   ]
  },
  {
   "cell_type": "markdown",
   "id": "77d186ae-c31b-4962-aaca-1a1b3d753b38",
   "metadata": {},
   "source": [
    "### 4) Now add pluto to your dictionary"
   ]
  },
  {
   "cell_type": "code",
   "execution_count": 289,
   "id": "a906c57f-facd-4340-bae2-38a92d959d75",
   "metadata": {},
   "outputs": [
    {
     "name": "stdout",
     "output_type": "stream",
     "text": [
      "Note: The unit for mass is 10e24 kg\n",
      "\n"
     ]
    },
    {
     "data": {
      "text/plain": [
       "{'Mercury': 0.33,\n",
       " 'Venus': 4.87,\n",
       " 'Earth': 5.97,\n",
       " 'Mars': 0.642,\n",
       " 'Jupiter': 1898.0,\n",
       " 'Saturn': 568.0,\n",
       " 'Uranus': 86.8,\n",
       " 'Neptune': 102.0,\n",
       " 'Pluto': 0.013}"
      ]
     },
     "execution_count": 289,
     "metadata": {},
     "output_type": "execute_result"
    }
   ],
   "source": [
    "planet_masses['Pluto'] = 0.0130\n",
    "\n",
    "print('Note: The unit for mass is 10e24 kg')\n",
    "print( )\n",
    "planet_masses"
   ]
  },
  {
   "cell_type": "markdown",
   "id": "b89ecbac-48a9-4483-a69e-3fd1d560bb51",
   "metadata": {},
   "source": [
    "## Part III: Functions"
   ]
  },
  {
   "cell_type": "markdown",
   "id": "31639429-ecbd-4bbc-bd55-4e68e31305fc",
   "metadata": {},
   "source": [
    "### 1. Write a function to convert temperature from kelvin to celsius \n",
    "and celcius to kelvin"
   ]
  },
  {
   "cell_type": "code",
   "execution_count": 290,
   "id": "b2f5650e-2147-4d8a-9d54-f4d693962f9b",
   "metadata": {},
   "outputs": [],
   "source": [
    "# Define a function to convert temperature from kelvin to celcius\n",
    "\n",
    "def kelvin_to_celcius(kelvin):\n",
    "    \"\"\"Convert temperature from Kelvin to Celcius.\"\"\"\n",
    "    celcius = kelvin - 273.15\n",
    "    return celcius\n",
    "\n",
    "\n",
    "# Define a function to convert temperature from celcius to kelvin\n",
    "\n",
    "def celcius_to_kelvin(celcius):\n",
    "    \"\"\"Convert temperature from Kelvin to Celcius.\"\"\"\n",
    "    kelvin = celcius + 273.15\n",
    "    return kelvin\n",
    "\n"
   ]
  },
  {
   "cell_type": "markdown",
   "id": "1342f9ff-8109-457f-ba66-e0704cbf6792",
   "metadata": {},
   "source": [
    "### 2. Write a function to convert temperature to fahrenheit. \n",
    "Include an optional keyword argument to specify whether the input is in celcius or kelvin. Call your previously defined functions if necessary.\n"
   ]
  },
  {
   "cell_type": "code",
   "execution_count": 291,
   "id": "22446fa6-1bc4-4d02-98c4-99c72f35ab13",
   "metadata": {},
   "outputs": [],
   "source": [
    "def kelvin_or_celcius_to_fahrenheit(temperature, kelvin=False):\n",
    "    \"\"\"Convert temperature from Kelvin or Celcius to Fahrenheit.\"\"\"\n",
    "    if kelvin:\n",
    "        fahrenheit = (9/5) * kelvin_to_celcius(temperature) + 32\n",
    "        return str(temperature) + ' K' + ' is ' + str(fahrenheit) +  ' °F.'\n",
    "    else:\n",
    "        fahrenheit = (9/5) * (temperature) + 32\n",
    "        return str(temperature) + ' °C' + ' is ' + str(fahrenheit) + ' °F.'"
   ]
  },
  {
   "cell_type": "markdown",
   "id": "c62e26f7-7f27-4850-bffa-54975eda44fa",
   "metadata": {},
   "source": [
    "### 3) Check that the outputs are sensible\n",
    "by trying a few examples"
   ]
  },
  {
   "cell_type": "code",
   "execution_count": 292,
   "id": "47a4ab04-723f-4a96-8c0b-661a6a63f5c8",
   "metadata": {},
   "outputs": [
    {
     "data": {
      "text/plain": [
       "25.0"
      ]
     },
     "execution_count": 292,
     "metadata": {},
     "output_type": "execute_result"
    }
   ],
   "source": [
    "# Check kelvin_to_celcius(kelvin) function for 298.15K. Answer should be 25 °C.\n",
    "\n",
    "kelvin_to_celcius(298.15)"
   ]
  },
  {
   "cell_type": "code",
   "execution_count": 293,
   "id": "005b02ca-cd54-481e-bd10-904779bbe26e",
   "metadata": {},
   "outputs": [
    {
     "data": {
      "text/plain": [
       "298.15"
      ]
     },
     "execution_count": 293,
     "metadata": {},
     "output_type": "execute_result"
    }
   ],
   "source": [
    "# Check celcius_to_kelvin(celcius) function for 25 °C. Answer should be 298.15 K.\n",
    "\n",
    "celcius_to_kelvin(25)"
   ]
  },
  {
   "cell_type": "code",
   "execution_count": 294,
   "id": "647208c3-2dea-4dd5-a2f9-f01df2b20e62",
   "metadata": {},
   "outputs": [
    {
     "data": {
      "text/plain": [
       "'298.15 K is 77.0 °F.'"
      ]
     },
     "execution_count": 294,
     "metadata": {},
     "output_type": "execute_result"
    }
   ],
   "source": [
    "# Check kelvin_or_celcius_to_fahrenheit(temperature, kelvin=False) for 298.15 K. Answer should be 77 °F.\n",
    "\n",
    "kelvin_or_celcius_to_fahrenheit(298.15, kelvin=True)"
   ]
  },
  {
   "cell_type": "code",
   "execution_count": 295,
   "id": "3a62e3ae-6b96-4dac-81d1-f74d04538bc5",
   "metadata": {},
   "outputs": [
    {
     "data": {
      "text/plain": [
       "'25 °C is 77.0 °F.'"
      ]
     },
     "execution_count": 295,
     "metadata": {},
     "output_type": "execute_result"
    }
   ],
   "source": [
    "# Check kelvin_or_celcius_to_fahrenheit(temperature, kelvin=False) for 25 °C. Answer should be 77 °F.\n",
    "\n",
    "kelvin_or_celcius_to_fahrenheit(25)"
   ]
  },
  {
   "cell_type": "markdown",
   "id": "8eee6dde-6131-4216-b409-e8cc38398330",
   "metadata": {},
   "source": [
    "### 4) Now write a function that converts from farenheit\n",
    "and uses a keyword argument to specify whether you want the output in celcius or kelvin"
   ]
  },
  {
   "cell_type": "code",
   "execution_count": 296,
   "id": "b381484e-ed8b-4b53-8385-fe159617a1c7",
   "metadata": {},
   "outputs": [],
   "source": [
    "def fahrenheit_to_celcius_or_kelvin(temperature, kelvin=False):\n",
    "    \"\"\"Convert temperature from Fahrenheit to Celcius or Kelvin.\"\"\"\n",
    "    if kelvin:\n",
    "        kelvin = (((temperature) - 32) * (5/9)) + 273.15\n",
    "        return str(temperature) + ' °F' + ' is ' + str(kelvin) +  ' K.'\n",
    "    else:\n",
    "        celcius = ((temperature) - 32) * (5/9)\n",
    "        return str(temperature) + ' °F' + ' is ' + str(celcius) +  ' °C.'\n"
   ]
  },
  {
   "cell_type": "code",
   "execution_count": 297,
   "id": "fd8e604d-d498-4f57-b59e-029a0b1911e9",
   "metadata": {},
   "outputs": [
    {
     "data": {
      "text/plain": [
       "'77 °F is 25.0 °C.'"
      ]
     },
     "execution_count": 297,
     "metadata": {},
     "output_type": "execute_result"
    }
   ],
   "source": [
    "# Check fahrenheit_to_celcius_or_kelvin(temperature, kelvin=False) for 77 °F to be converted to °C. Answer should be 25.0 °C.  \n",
    "\n",
    "fahrenheit_to_celcius_or_kelvin(77)"
   ]
  },
  {
   "cell_type": "code",
   "execution_count": 298,
   "id": "bf6f64c2-ae4b-4c73-9b8b-4a9f300a0deb",
   "metadata": {},
   "outputs": [
    {
     "data": {
      "text/plain": [
       "'77 °F is 298.15 K.'"
      ]
     },
     "execution_count": 298,
     "metadata": {},
     "output_type": "execute_result"
    }
   ],
   "source": [
    "# Check fahrenheit_to_celcius_or_kelvin(temperature, kelvin=False) for 77 °F to be converted to K. Answer should be 298.15 K.  \n",
    "\n",
    "fahrenheit_to_celcius_or_kelvin(77, kelvin=True)"
   ]
  },
  {
   "cell_type": "markdown",
   "id": "189e213c-4ebb-4aaf-ac88-4e7b25ab3856",
   "metadata": {},
   "source": [
    "### 5) Write a function that takes two arguments (feet and inches) and returns height in meters\n",
    "Verify it gives sensible answers\n",
    "\n"
   ]
  },
  {
   "cell_type": "code",
   "execution_count": 299,
   "id": "dcff5d4e-3380-4d37-bcfa-47fb65723abf",
   "metadata": {},
   "outputs": [],
   "source": [
    "def feet_and_inches_to_meters(feet, inches):\n",
    "    \"\"\"Convert feet and inches to meters.\"\"\"\n",
    "    total_inches = feet * 12 + inches\n",
    "    meters = total_inches * 0.0254\n",
    "    return meters"
   ]
  },
  {
   "cell_type": "code",
   "execution_count": 308,
   "id": "77497e2b-7a84-45c0-b24c-a1ec0d363783",
   "metadata": {},
   "outputs": [
    {
     "data": {
      "text/plain": [
       "1.5493999999999999"
      ]
     },
     "execution_count": 308,
     "metadata": {},
     "output_type": "execute_result"
    }
   ],
   "source": [
    "# Verifying feet_and_inches_to_meters(feet, inches) for height 5'1. Answer should be ~1.55m.\n",
    "\n",
    "feet_and_inches_to_meters(5,1)"
   ]
  },
  {
   "cell_type": "markdown",
   "id": "5cba2c09-8e0c-424b-8610-05f8b3d4f8de",
   "metadata": {},
   "source": [
    "### 6. Write a function takes one argument (height in meters) and returns two arguments (feet and inches)\n"
   ]
  },
  {
   "cell_type": "code",
   "execution_count": 309,
   "id": "81e80d46-0789-4663-af10-12bc1bf79bb1",
   "metadata": {},
   "outputs": [],
   "source": [
    "def meters_to_feet_and_inches(meters):\n",
    "    \"\"\"Converting height in meters to feet and inches.\"\"\"\n",
    "    total_inches = meters / 0.0254\n",
    "    feet = total_inches // 12\n",
    "    inches = total_inches % 12\n",
    "    return feet, inches\n"
   ]
  },
  {
   "cell_type": "markdown",
   "id": "f2f35211-c6a4-41d9-bad2-8ccddc1661a1",
   "metadata": {},
   "source": [
    "### 7) Verify that the “round trip” conversion from and back to meters is consistent\n",
    "Check for 3 different values of height in meters"
   ]
  },
  {
   "cell_type": "code",
   "execution_count": 310,
   "id": "1caf9a25-3572-4a9d-a5e7-f97d873697cc",
   "metadata": {},
   "outputs": [
    {
     "data": {
      "text/plain": [
       "(3.0, 3.3700787401574814)"
      ]
     },
     "execution_count": 310,
     "metadata": {},
     "output_type": "execute_result"
    }
   ],
   "source": [
    "# Check meters_to_feet_and_inches(meters) for 1 m. Answer should be 3 feet and ~3.37 inches.\n",
    "\n",
    "meters_to_feet_and_inches(1)"
   ]
  },
  {
   "cell_type": "code",
   "execution_count": 311,
   "id": "03169a5f-286d-4cc1-a372-b72b9476e73d",
   "metadata": {},
   "outputs": [
    {
     "data": {
      "text/plain": [
       "0.9999979999999999"
      ]
     },
     "execution_count": 311,
     "metadata": {},
     "output_type": "execute_result"
    }
   ],
   "source": [
    "# Check feet_and_inches_to_meters(feet, inches) for 3 feet and 3.37 inches. Answer should be ~1 m.\n",
    "\n",
    "feet_and_inches_to_meters(3, 3.37)"
   ]
  },
  {
   "cell_type": "code",
   "execution_count": 312,
   "id": "85374fd9-619a-400e-90fd-431ee844a764",
   "metadata": {},
   "outputs": [
    {
     "data": {
      "text/plain": [
       "(5.0, 10.866141732283467)"
      ]
     },
     "execution_count": 312,
     "metadata": {},
     "output_type": "execute_result"
    }
   ],
   "source": [
    "# Check meters_to_feet_and_inches(meters) for 1.8 m. Answer should be 5 feet and ~10.87 inches.\n",
    "\n",
    "meters_to_feet_and_inches(1.8)"
   ]
  },
  {
   "cell_type": "code",
   "execution_count": 305,
   "id": "706fa40b-40a4-41b3-856a-3399a38e7d0b",
   "metadata": {},
   "outputs": [
    {
     "data": {
      "text/plain": [
       "1.800098"
      ]
     },
     "execution_count": 305,
     "metadata": {},
     "output_type": "execute_result"
    }
   ],
   "source": [
    "# Check feet_and_inches_to_meters(feet, inches) for 5 feet and 10.87 inches. Answer should be ~1.8 m.\n",
    "\n",
    "feet_and_inches_to_meters(5, 10.87)"
   ]
  },
  {
   "cell_type": "code",
   "execution_count": 306,
   "id": "b01c2f75-a777-466d-a616-be7d53f6743e",
   "metadata": {},
   "outputs": [
    {
     "data": {
      "text/plain": [
       "(4.0, 11.055118110236222)"
      ]
     },
     "execution_count": 306,
     "metadata": {},
     "output_type": "execute_result"
    }
   ],
   "source": [
    "# Check meters_to_feet_and_inches(meters) for 1.5 m. Answer should be 4 feet and ~11 inches.\n",
    "\n",
    "meters_to_feet_and_inches(1.5)"
   ]
  },
  {
   "cell_type": "code",
   "execution_count": 307,
   "id": "da65e137-6ff1-44a4-b4ae-371fa80f757a",
   "metadata": {},
   "outputs": [
    {
     "data": {
      "text/plain": [
       "1.500124"
      ]
     },
     "execution_count": 307,
     "metadata": {},
     "output_type": "execute_result"
    }
   ],
   "source": [
    "# Check feet_and_inches_to_meters(feet, inches) for 4 feet and 11.06 inches. Answer should be ~1.5 m.\n",
    "\n",
    "feet_and_inches_to_meters(4, 11.06)"
   ]
  },
  {
   "cell_type": "code",
   "execution_count": null,
   "id": "2130c5f0-1089-4f31-93a3-5913cd53156d",
   "metadata": {},
   "outputs": [],
   "source": []
  },
  {
   "cell_type": "code",
   "execution_count": null,
   "id": "2666c96a-472e-46a0-b224-a987748a0556",
   "metadata": {},
   "outputs": [],
   "source": []
  },
  {
   "cell_type": "code",
   "execution_count": null,
   "id": "8736b8c3-eaac-4d6f-8408-302212cffbc0",
   "metadata": {},
   "outputs": [],
   "source": []
  }
 ],
 "metadata": {
  "kernelspec": {
   "display_name": "pangeo23",
   "language": "python",
   "name": "pangeo23"
  },
  "language_info": {
   "codemirror_mode": {
    "name": "ipython",
    "version": 3
   },
   "file_extension": ".py",
   "mimetype": "text/x-python",
   "name": "python",
   "nbconvert_exporter": "python",
   "pygments_lexer": "ipython3",
   "version": "3.11.6"
  }
 },
 "nbformat": 4,
 "nbformat_minor": 5
}
